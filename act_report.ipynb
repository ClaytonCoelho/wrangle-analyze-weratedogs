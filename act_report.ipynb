{
 "cells": [
  {
   "cell_type": "markdown",
   "metadata": {},
   "source": [
    "# <center><font color='blue'>Analyzing Tweets From @WeRateDogs</font></center>\n",
    "\n",
    "<img src=\"images/we_rate_dogs.png\" />"
   ]
  },
  {
   "cell_type": "markdown",
   "metadata": {},
   "source": [
    "[WeRateDogs](https://twitter.com/dog_rates) is a Twitter account create in November 2015, that rates people's dogs with a humorous comment about the dog. These ratings almost always have a denominator of 10. The numerators, though? Almost always greater than 10. 11/10, 12/10, 13/10, etc. Why? Because \"they're good dogs Brent.\" WeRateDogs has over 8 million followers and has received international media coverage."
   ]
  },
  {
   "cell_type": "markdown",
   "metadata": {},
   "source": [
    "Through the data from the WeRateDogs account tweets we will answer some questions:\n",
    "\n",
    "- **What is distribution the dog stage?**\n",
    "- **What is the most common rating?**\n",
    "- **What is the correlation between favorites and retweets?**\n",
    "- **What is the most common dog names?**\n",
    "- **What is the behavior of new tweets over time?**"
   ]
  },
  {
   "cell_type": "markdown",
   "metadata": {},
   "source": [
    "### What is distribution the dog stage?\n",
    "\n",
    "<img src=\"images/distribution_dogs_stages.png\" />\n",
    "\n",
    "Analyzing the plot above, we can see that dog stage majority is Pupper with 65% and the smallest is the Floofer with only 3%.\n"
   ]
  },
  {
   "cell_type": "markdown",
   "metadata": {},
   "source": [
    "### What is the most common rating?\n",
    "\n",
    "<img src=\"images/top_ten_ratings_dogs.png\" />\n",
    "\n",
    "Analyzing the plot above, we can see that most registered notes are equal to or greater than 10, with note 12 being more frequent."
   ]
  },
  {
   "cell_type": "markdown",
   "metadata": {},
   "source": [
    "### What is the correlation between favorites and retweets?\n",
    "\n",
    "<img src=\"images/favorite_vs_retweet.png\" />\n",
    "\n",
    "There is a strong and positive correlation between the amount of retweet and favorites. We can say that the more a bet is retweeted, the more favorites it receives."
   ]
  },
  {
   "cell_type": "markdown",
   "metadata": {},
   "source": [
    "### What is the most common dog names?\n",
    "\n",
    "<img src=\"images/top_five_dogs_name.png\" />\n",
    "\n",
    "Analyzing the plot above, we can see that most frequent names in the dataset are Lucy and Cooper."
   ]
  },
  {
   "cell_type": "markdown",
   "metadata": {},
   "source": [
    "### What is the behavior of new tweets over time?\n",
    "\n",
    "<img src=\"images/tweets_over_time.png\" />\n",
    "\n",
    "We had a large amount of new tweets when the profile was created (November 2015), but still in the beginning of 2016 we have a sharp drop that slows down in the middle of the year and the downward trend continues throughout 2017."
   ]
  },
  {
   "cell_type": "markdown",
   "metadata": {},
   "source": []
  }
 ],
 "metadata": {
  "kernelspec": {
   "display_name": "Python 3",
   "language": "python",
   "name": "python3"
  },
  "language_info": {
   "codemirror_mode": {
    "name": "ipython",
    "version": 3
   },
   "file_extension": ".py",
   "mimetype": "text/x-python",
   "name": "python",
   "nbconvert_exporter": "python",
   "pygments_lexer": "ipython3",
   "version": "3.8.2"
  }
 },
 "nbformat": 4,
 "nbformat_minor": 4
}
